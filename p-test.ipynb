{
 "cells": [
  {
   "cell_type": "code",
   "execution_count": 33,
   "metadata": {},
   "outputs": [],
   "source": [
    "import numpy as np\n",
    "from scipy.stats import ttest_ind\n",
    "\n",
    "def calculate_p_stat(score_name, set1_scores, set2_scores):\n",
    "    if len(set1_scores) != len(set2_scores):\n",
    "        print(\"Error: different number of scores in the two sets\")\n",
    "        exit()\n",
    "\n",
    "    t_stat, p_value = ttest_ind(set1_scores, set2_scores)\n",
    "\n",
    "    print(\"Stats for {} Scores:\".format(score_name))\n",
    "    print(\"T-test statistic: \", t_stat)\n",
    "    print(\"P-value: \", p_value)\n",
    "\n",
    "def percent_improvement(score_name, improved_scores, original_scores):\n",
    "    percent_improvement = []\n",
    "    for original, improved in zip(original_scores, improved_scores):\n",
    "        if original == 0:\n",
    "            continue\n",
    "        percent_improvement.append(((improved - original) / original) * 100)\n",
    "    aggregate_percent_improvement = sum(percent_improvement) / len(percent_improvement)\n",
    "\n",
    "    print(\"Stats for {} Scores:\".format(score_name))\n",
    "    print(\"Percentage improvement for each example:\", percent_improvement)\n",
    "    print(\"Aggregate percentage improvement:\", aggregate_percent_improvement)\n"
   ]
  },
  {
   "cell_type": "code",
   "execution_count": 35,
   "metadata": {},
   "outputs": [
    {
     "name": "stdout",
     "output_type": "stream",
     "text": [
      "Stats for Jaccard Similarity Scores:\n",
      "Percentage improvement for each example: [42.999999999999986, 12.222222222222232, 48.51851851851851, -6.976744186046502, 40.35087719298245, -26.200000000000003, 28.57142857142856, 23.214285714285722, 42.222222222222236, -10.373443983402485, -80.0]\n",
      "Aggregate percentage improvement: 10.413578752019156\n",
      "----------------------------------\n",
      "Stats for BLEU Scores:\n",
      "Percentage improvement for each example: [-2.632811262729242, 0.0, 14.471424714403797, 0.0, 0.0, 0.0, 0.0, 0.0, 0.0, -100.0]\n",
      "Aggregate percentage improvement: -8.816138654832546\n",
      "----------------------------------\n",
      "Stats for ROUGE-1 Scores:\n",
      "Percentage improvement for each example: [37.12898065620157, 10.7142859254945, 18.372537038413878, 1.6129031487499859, 0.8264462672426812, 13.483146313532302, -8.556149996421974, 5.217391624208713, -11.729482385360834, -0.8413459558593702, -13.000000904256282]\n",
      "Aggregate percentage improvement: 4.8389737938131985\n",
      "----------------------------------\n",
      "Stats for ROUGE-2 Scores:\n",
      "Percentage improvement for each example: [180.5633942573949, -28.29268528248649, 13.636365579545684, 272.8261937414094, 167.04552064563788, 10.126585974329878, -42.54658878890973, 20.869568022774715, 17.777782372879482, -100.0]\n",
      "Aggregate percentage improvement: 51.20061365225757\n",
      "----------------------------------\n",
      "Stats for ROUGE-L Scores:\n",
      "Percentage improvement for each example: [85.01529262319322, 1.6129031487499859, 0.7575758348232272, 5.217391624208713, 34.61538640769239, 7.185629116516264, 21.785714928742873, -0.702247338627991, -2.205882478152596, -19.338843507478597, -13.000000904256282]\n",
      "Aggregate percentage improvement: 10.994810859582836\n",
      "----------------------------------\n",
      "Stats for mpnet scores Scores:\n",
      "Percentage improvement for each example: [14.326599958045048, 7.0857870086351475, -12.969636715207441, -6.649704801830547, -13.04702281288822, 42.93135422258949, -21.880274061637238, 11.357471144155532, 12.655620071210095, 24.523487041608945, 12.53750939139614]\n",
      "Aggregate percentage improvement: 6.4428354950979045\n",
      "----------------------------------\n"
     ]
    }
   ],
   "source": [
    "# Jaccard Similarity Scores\n",
    "set1_scores = np.array([0.143, 0.101, 0.0802, 0.08, 0.08, 0.0738, 0.072, 0.069, 0.064, 0.0432, 0.007])\n",
    "set2_scores = np.array([0.1, 0.09, 0.054, 0.086, 0.057, 0.1, 0.056, 0.056, 0.045, 0.0482, 0.035])\n",
    "# calculate_p_stat(\"Jaccard Similarity\", set1_scores, set2_scores)\n",
    "percent_improvement(\"Jaccard Similarity\", set1_scores, set2_scores)\n",
    "print(\"----------------------------------\")\n",
    "# BLEU Similarity Scores\n",
    "set1_scores = np.array([0.0738, 0.02889605415, 0.006961570131, 0.004569788283, 0.004489054433, 0.003934213392, 0.003120157128, 0.002032545482, 0.001551112365, 0.0008929035655, 0])\n",
    "set2_scores = np.array([0, 0.02967740419, 0.006961570131, 0.003992077756, 0.004489054433, 0.003934213392, 0.003120157128, 0.002032545482, 0.001551112365, 0.0008929035655, 0.035])\n",
    "# calculate_p_stat(\"BLEU\", set1_scores, set2_scores)\n",
    "percent_improvement(\"BLEU\", set1_scores, set2_scores)\n",
    "print(\"----------------------------------\")\n",
    "# ROUGE-1 Similarity Scores\n",
    "set1_scores = np.array([0.3853210959, 0.2321428521, 0.2314049537, 0.1935483823, 0.1818181768, 0.1797752762, 0.1764705833, 0.1739130398, 0.1676646662, 0.1442307653, 0.07999999609])\n",
    "set2_scores = np.array([0.2809917306, 0.2096774144, 0.1954887168, 0.1904761859, 0.1803278639, 0.1584158371, 0.1929824513, 0.1652892522, 0.1899441294, 0.1454545412, 0.09195401945])\n",
    "# calculate_p_stat(\"ROUGE-1\", set1_scores, set2_scores)\n",
    "percent_improvement(\"ROUGE-1\", set1_scores, set2_scores)\n",
    "print(\"----------------------------------\")\n",
    "# ROUGE-2 Similarity Scores\n",
    "set1_scores = np.array([0.1690140795, 0.04878048308, 0.04545454055, 0.03804347498, 0.02840908752, 0.02531645134, 0.02484471551, 0.01739129987, 0.01481480989, 0, 0])\n",
    "set2_scores = np.array([0.06024095907, 0.06802720653, 0.039999995, 0.01020407783, 0.01063829397, 0.02298850102, 0.04324323828, 0.01438848517, 0.01257861168, 0.02380951899, 0])\n",
    "# calculate_p_stat(\"ROUGE-2\", set1_scores, set2_scores)\n",
    "percent_improvement(\"ROUGE-2\", set1_scores, set2_scores)\n",
    "\n",
    "print(\"----------------------------------\")\n",
    "# ROUGE-L Similarity Scores (based on LCS)\n",
    "set1_scores = np.array([0.3669724721, 0.1935483823, 0.1818181769, 0.1739130398, 0.1346153807, 0.1676646662, 0.1964285664, 0.1573033661, 0.137254897, 0.1454545405, 0.07999999609])\n",
    "set2_scores = np.array([0.1983471025, 0.1904761859, 0.1804511228, 0.1652892522, 0.09999999576, 0.1564245763, 0.1612903176, 0.1584158371, 0.1403508723, 0.1803278639, 0.09195401945])\n",
    "# calculate_p_stat(\"ROUGE-L\", set1_scores, set2_scores)\n",
    "percent_improvement(\"ROUGE-L\", set1_scores, set2_scores)\n",
    "print(\"----------------------------------\")\n",
    "# Sentence Similarity Scores\n",
    "set1_scores = np.array([0.8065617681, 0.8659570217, 0.6604626775, 0.796494782, 0.8181899786, 0.7874866724, 0.721357584, 0.8470582366, 0.7084579468, 0.8093848228, 0.6984382868])\n",
    "set2_scores = np.array([0.7054891586, 0.8086572886, 0.7588876486, 0.8532322049, 0.940956831, 0.5509544611, 0.9234000444, 0.760665834, 0.6288704872, 0.649985671, 0.6206271052])\n",
    "# calculate_p_stat(\"ROUGE-L\", set1_scores, set2_scores)\n",
    "percent_improvement(\"mpnet scores\", set1_scores, set2_scores)\n",
    "print(\"----------------------------------\")"
   ]
  },
  {
   "cell_type": "code",
   "execution_count": null,
   "metadata": {},
   "outputs": [],
   "source": []
  }
 ],
 "metadata": {
  "kernelspec": {
   "display_name": "base",
   "language": "python",
   "name": "python3"
  },
  "language_info": {
   "codemirror_mode": {
    "name": "ipython",
    "version": 3
   },
   "file_extension": ".py",
   "mimetype": "text/x-python",
   "name": "python",
   "nbconvert_exporter": "python",
   "pygments_lexer": "ipython3",
   "version": "3.9.13"
  },
  "orig_nbformat": 4
 },
 "nbformat": 4,
 "nbformat_minor": 2
}
