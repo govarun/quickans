{
 "cells": [
  {
   "cell_type": "code",
   "execution_count": 12,
   "metadata": {},
   "outputs": [],
   "source": [
    "import numpy as np\n",
    "from scipy.stats import ttest_ind\n",
    "\n",
    "def calculate_scores(score_name, set1_scores, set2_scores):\n",
    "    if len(set1_scores) != len(set2_scores):\n",
    "        print(\"Error: different number of scores in the two sets\")\n",
    "        exit()\n",
    "\n",
    "    t_stat, p_value = ttest_ind(set1_scores, set2_scores)\n",
    "\n",
    "    # Print the results\n",
    "    print(\"Stats for {} Scores:\".format(score_name))\n",
    "    print(\"T-test statistic: \", t_stat)\n",
    "    print(\"P-value: \", p_value)"
   ]
  },
  {
   "cell_type": "code",
   "execution_count": 19,
   "metadata": {},
   "outputs": [
    {
     "name": "stdout",
     "output_type": "stream",
     "text": [
      "Stats for Jaccard Similarity Scores:\n",
      "T-test statistic:  0.6364497836234869\n",
      "P-value:  0.5317005518366229\n",
      "----------------------------------\n",
      "Stats for BLEU Scores:\n",
      "T-test statistic:  0.4628873420469605\n",
      "P-value:  0.6484421043390194\n",
      "----------------------------------\n",
      "Stats for ROUGE-1 Scores:\n",
      "T-test statistic:  0.49613995316805604\n",
      "P-value:  0.625204183910104\n",
      "----------------------------------\n",
      "Stats for ROUGE-2 Scores:\n",
      "T-test statistic:  0.6206152227541262\n",
      "P-value:  0.5418611949655255\n",
      "----------------------------------\n",
      "Stats for ROUGE-L Scores:\n",
      "T-test statistic:  0.8053495673326777\n",
      "P-value:  0.43008919932062095\n",
      "----------------------------------\n"
     ]
    }
   ],
   "source": [
    "# Jaccard Similarity Scores\n",
    "set1_scores = np.array([0.143, 0.101, 0.0802, 0.08, 0.08, 0.0738, 0.072, 0.069, 0.064, 0.0432, 0.007])\n",
    "set2_scores = np.array([0.1, 0.09, 0.054, 0.086, 0.057, 0.1, 0.056, 0.056, 0.045, 0.0482, 0.035])\n",
    "calculate_scores(\"Jaccard Similarity\", set1_scores, set2_scores)\n",
    "print(\"----------------------------------\")\n",
    "# BLEU Similarity Scores\n",
    "set1_scores = np.array([0.0738, 0.02889605415, 0.006961570131, 0.004569788283, 0.004489054433, 0.003934213392, 0.003120157128, 0.002032545482, 0.001551112365, 0.0008929035655, 0])\n",
    "set2_scores = np.array([0, 0.02967740419, 0.006961570131, 0.003992077756, 0.004489054433, 0.003934213392, 0.003120157128, 0.002032545482, 0.001551112365, 0.0008929035655, 0.035])\n",
    "calculate_scores(\"BLEU\", set1_scores, set2_scores)\n",
    "print(\"----------------------------------\")\n",
    "# ROUGE-1 Similarity Scores\n",
    "set1_scores = np.array([0.3853210959, 0.2321428521, 0.2314049537, 0.1935483823, 0.1818181768, 0.1797752762, 0.1764705833, 0.1739130398, 0.1676646662, 0.1442307653, 0.07999999609])\n",
    "set2_scores = np.array([0.2809917306, 0.2096774144, 0.1954887168, 0.1904761859, 0.1803278639, 0.1584158371, 0.1929824513, 0.1652892522, 0.1899441294, 0.1454545412, 0.09195401945])\n",
    "calculate_scores(\"ROUGE-1\", set1_scores, set2_scores)\n",
    "print(\"----------------------------------\")\n",
    "# ROUGE-2 Similarity Scores\n",
    "set1_scores = np.array([0.1690140795, 0.04878048308, 0.04545454055, 0.03804347498, 0.02840908752, 0.02531645134, 0.02484471551, 0.01739129987, 0.01481480989, 0, 0])\n",
    "set2_scores = np.array([0.06024095907, 0.06802720653, 0.039999995, 0.01020407783, 0.01063829397, 0.02298850102, 0.04324323828, 0.01438848517, 0.01257861168, 0.02380951899, 0])\n",
    "calculate_scores(\"ROUGE-2\", set1_scores, set2_scores)\n",
    "\n",
    "print(\"----------------------------------\")\n",
    "# ROUGE-L Similarity Scores (based on LCS)\n",
    "set1_scores = np.array([0.3669724721, 0.1935483823, 0.1818181769, 0.1739130398, 0.1346153807, 0.1676646662, 0.1964285664, 0.1573033661, 0.137254897, 0.1454545405, 0.07999999609])\n",
    "set2_scores = np.array([0.1983471025, 0.1904761859, 0.1804511228, 0.1652892522, 0.09999999576, 0.1564245763, 0.1612903176, 0.1584158371, 0.1403508723, 0.1803278639, 0.09195401945])\n",
    "calculate_scores(\"ROUGE-L\", set1_scores, set2_scores)\n",
    "print(\"----------------------------------\")"
   ]
  }
 ],
 "metadata": {
  "kernelspec": {
   "display_name": "base",
   "language": "python",
   "name": "python3"
  },
  "language_info": {
   "codemirror_mode": {
    "name": "ipython",
    "version": 3
   },
   "file_extension": ".py",
   "mimetype": "text/x-python",
   "name": "python",
   "nbconvert_exporter": "python",
   "pygments_lexer": "ipython3",
   "version": "3.9.13"
  },
  "orig_nbformat": 4
 },
 "nbformat": 4,
 "nbformat_minor": 2
}
